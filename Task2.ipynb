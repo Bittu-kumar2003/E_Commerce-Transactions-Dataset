{
 "cells": [
  {
   "cell_type": "code",
   "execution_count": 3,
   "id": "f36785f6-3eb5-4b00-8e45-7f3c0fe738f1",
   "metadata": {},
   "outputs": [],
   "source": [
    "import pandas as pd\n",
    "from sklearn.metrics.pairwise import cosine_similarity\n",
    "from sklearn.preprocessing import StandardScaler\n",
    "import numpy as np"
   ]
  },
  {
   "cell_type": "code",
   "execution_count": 5,
   "id": "56430e2f-dba0-4f27-878d-f0b059f3b031",
   "metadata": {},
   "outputs": [],
   "source": [
    "# Load the datasets\n",
    "customers = pd.read_csv('Customers.csv')\n",
    "products = pd.read_csv('Products.csv')\n",
    "transactions = pd.read_csv('Transactions.csv')"
   ]
  },
  {
   "cell_type": "code",
   "execution_count": 9,
   "id": "d2128225-1178-47e3-bb2b-1a820087cab2",
   "metadata": {},
   "outputs": [],
   "source": [
    "# Merge datasets for comprehensive analysis\n",
    "merged_data = transactions.merge(customers, on='CustomerID').merge(products, on='ProductID')\n"
   ]
  },
  {
   "cell_type": "code",
   "execution_count": 13,
   "id": "55c4de41-8b9c-4812-9529-838a58351812",
   "metadata": {},
   "outputs": [],
   "source": [
    "# Correct Feature Engineering\n",
    "# Calculate Price dynamically if it doesn't exist\n",
    "if 'Price' not in merged_data.columns:\n",
    "    merged_data['Price'] = merged_data['TotalValue'] / merged_data['Quantity']\n",
    "\n",
    "# Aggregate transaction data per customer\n",
    "customer_features = merged_data.groupby('CustomerID').agg({\n",
    "    'Quantity': 'sum',\n",
    "    'TotalValue': 'sum',\n",
    "    'Price': 'mean'\n",
    "}).reset_index()\n",
    "\n",
    "# Merge customer demographics\n",
    "customer_features = customer_features.merge(customers[['CustomerID', 'Region']], on='CustomerID')\n",
    "\n",
    "# One-hot encode categorical features (Region)\n",
    "customer_features = pd.get_dummies(customer_features, columns=['Region'], drop_first=True)\n",
    "\n",
    "# Standardize numerical features\n",
    "scaler = StandardScaler()\n",
    "numerical_features = ['Quantity', 'TotalValue', 'Price']\n",
    "customer_features[numerical_features] = scaler.fit_transform(customer_features[numerical_features])\n"
   ]
  },
  {
   "cell_type": "code",
   "execution_count": 15,
   "id": "5b00c659-e9a9-47ec-9b68-f3f6b769c56b",
   "metadata": {},
   "outputs": [],
   "source": [
    "# Compute Similarity Matrix\n",
    "feature_matrix = customer_features.drop(columns=['CustomerID'])\n",
    "similarity_matrix = cosine_similarity(feature_matrix)\n",
    "\n",
    "# Generate Lookalike Recommendations\n",
    "customer_ids = customer_features['CustomerID'].tolist()\n",
    "lookalike_map = {}\n",
    "\n",
    "for idx, customer_id in enumerate(customer_ids[:20]):  # First 20 customers\n",
    "    similarity_scores = list(enumerate(similarity_matrix[idx]))\n",
    "    sorted_scores = sorted(similarity_scores, key=lambda x: x[1], reverse=True)\n",
    "    top_lookalikes = [(customer_ids[i], score) for i, score in sorted_scores[1:4]]  # Top 3 lookalikes\n",
    "    lookalike_map[customer_id] = top_lookalikes"
   ]
  },
  {
   "cell_type": "code",
   "execution_count": 17,
   "id": "41d02b0e-b736-4f1e-a862-54cbd4407649",
   "metadata": {},
   "outputs": [
    {
     "name": "stdout",
     "output_type": "stream",
     "text": [
      "Lookalike recommendations saved to 'Lookalike.csv'\n"
     ]
    }
   ],
   "source": [
    "# Save Lookalike Map to CSV\n",
    "lookalike_list = []\n",
    "for cust_id, lookalikes in lookalike_map.items():\n",
    "    for lookalike_id, score in lookalikes:\n",
    "        lookalike_list.append({'CustomerID': cust_id, 'LookalikeID': lookalike_id, 'SimilarityScore': score})\n",
    "\n",
    "lookalike_df = pd.DataFrame(lookalike_list)\n",
    "lookalike_df.to_csv('Lookalike.csv', index=False)\n",
    "print(\"Lookalike recommendations saved to 'Lookalike.csv'\")"
   ]
  },
  {
   "cell_type": "code",
   "execution_count": null,
   "id": "827e89af-15c7-4156-96fc-4a8d0404f7ff",
   "metadata": {},
   "outputs": [],
   "source": []
  },
  {
   "cell_type": "code",
   "execution_count": null,
   "id": "16f4df3e-f16f-4535-bd80-3d2f9ca494d9",
   "metadata": {},
   "outputs": [],
   "source": []
  },
  {
   "cell_type": "code",
   "execution_count": null,
   "id": "f6f4a24a-1bf4-4888-b4a7-4578109c63b6",
   "metadata": {},
   "outputs": [],
   "source": []
  }
 ],
 "metadata": {
  "kernelspec": {
   "display_name": "Python [conda env:base] *",
   "language": "python",
   "name": "conda-base-py"
  },
  "language_info": {
   "codemirror_mode": {
    "name": "ipython",
    "version": 3
   },
   "file_extension": ".py",
   "mimetype": "text/x-python",
   "name": "python",
   "nbconvert_exporter": "python",
   "pygments_lexer": "ipython3",
   "version": "3.12.4"
  }
 },
 "nbformat": 4,
 "nbformat_minor": 5
}
